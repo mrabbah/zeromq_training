{
 "cells": [
  {
   "cell_type": "markdown",
   "metadata": {},
   "source": [
    "# Example Code\n",
    "So let's start with some code. We start of course with a Hello World example. We'll make a client and a server. The client sends \"Hello\" to the server, which replies with \"World\"\n",
    "![Request-Reply](https://github.com/imatix/zguide/raw/master/images/fig2.png)"
   ]
  },
  {
   "cell_type": "code",
   "execution_count": 1,
   "metadata": {},
   "outputs": [],
   "source": [
    "# The server\n",
    "import zmq\n",
    "import time"
   ]
  },
  {
   "cell_type": "code",
   "execution_count": null,
   "metadata": {},
   "outputs": [],
   "source": [
    "context = zmq.Context()\n",
    "socket = context.socket(zmq.REP)\n",
    "socket.bind(\"tcp://*:5555\")\n",
    "while True:\n",
    "    # Wait for next request from client\n",
    "    message = socket.recv()\n",
    "    print(\"Received request: %s\" % message)\n",
    "    \n",
    "    # Do some work\n",
    "    time.sleep(1)\n",
    "    \n",
    "    # Send reply back to client\n",
    "    socket.send(b\"World\")\n"
   ]
  },
  {
   "cell_type": "code",
   "execution_count": null,
   "metadata": {},
   "outputs": [],
   "source": [
    "# The client\n",
    "import zmq\n",
    "\n",
    "context = zmq.Context()\n",
    "\n",
    "#  Socket to talk to server\n",
    "print(\"Connecting to hello world server...\")\n",
    "socket = context.socket(zmq.REQ)\n",
    "socket.connect(\"tcp://localhost:5555\")\n",
    "\n",
    "#  Do 10 requests, waiting each time for a response\n",
    "for request in range(10):\n",
    "    print(\"Sending request %s ...\" % request)\n",
    "    socket.send(b\"Hello\")\n",
    "\n",
    "    #  Get the reply.\n",
    "    message = socket.recv()\n",
    "    print(\"Received reply %s [ %s ]\" % (request, message))\n"
   ]
  },
  {
   "cell_type": "markdown",
   "metadata": {},
   "source": [
    "Lets query the ZeroMQ version"
   ]
  },
  {
   "cell_type": "code",
   "execution_count": 4,
   "metadata": {},
   "outputs": [
    {
     "name": "stdout",
     "output_type": "stream",
     "text": [
      "Current libzmq version is 4.1.6\n",
      "Current pyzmq version is 17.0.0\n"
     ]
    }
   ],
   "source": [
    "print(\"Current libzmq version is %s\" % zmq.zmq_version())\n",
    "print(\"Current pyzmq version is %s\" % zmq.__version__)"
   ]
  },
  {
   "cell_type": "markdown",
   "metadata": {},
   "source": [
    "# One-way data distribution (Publish/Subscribe)\n",
    "In this patter a server pushes updates to a set of clients.\n",
    "![Publish subscribe architecture](https://github.com/imatix/zguide/raw/master/images/fig4.png)"
   ]
  },
  {
   "cell_type": "code",
   "execution_count": null,
   "metadata": {},
   "outputs": [],
   "source": [
    "\n",
    "#\n",
    "#   Weather update server\n",
    "#   Binds PUB socket to tcp://*:5556\n",
    "#   Publishes random weather updates\n",
    "#\n",
    "\n",
    "import zmq\n",
    "from random import randrange\n",
    "\n",
    "context = zmq.Context()\n",
    "socket = context.socket(zmq.PUB)\n",
    "socket.bind(\"tcp://*:5556\")\n",
    "\n",
    "while True:\n",
    "    zipcode = randrange(1, 100000)\n",
    "    temperature = randrange(-80, 135)\n",
    "    relhumidity = randrange(10, 60)\n",
    "\n",
    "    socket.send_string(\"%i %i %i\" % (zipcode, temperature, relhumidity))\n"
   ]
  },
  {
   "cell_type": "code",
   "execution_count": null,
   "metadata": {},
   "outputs": [],
   "source": [
    "\n",
    "#\n",
    "#   Weather update client\n",
    "#   Connects SUB socket to tcp://localhost:5556\n",
    "#   Collects weather updates and finds avg temp in zipcode\n",
    "#\n",
    "\n",
    "import sys\n",
    "import zmq\n",
    "\n",
    "#  Socket to talk to server\n",
    "context = zmq.Context()\n",
    "socket = context.socket(zmq.SUB)\n",
    "\n",
    "print(\"Collecting updates from weather server…\")\n",
    "socket.connect(\"tcp://localhost:5556\")\n",
    "\n",
    "# Subscribe to zipcode, default is NYC, 10001\n",
    "zip_filter = sys.argv[1] if len(sys.argv) > 1 else \"10001\"\n",
    "\n",
    "# Python 2 - ascii bytes to unicode str\n",
    "if isinstance(zip_filter, bytes):\n",
    "    zip_filter = zip_filter.decode('ascii')\n",
    "socket.setsockopt_string(zmq.SUBSCRIBE, zip_filter)\n",
    "\n",
    "# Process 5 updates\n",
    "total_temp = 0\n",
    "for update_nbr in range(5):\n",
    "    string = socket.recv_string()\n",
    "    zipcode, temperature, relhumidity = string.split()\n",
    "    total_temp += int(temperature)\n",
    "\n",
    "print(\"Average temperature for zipcode '%s' was %dF\" % (\n",
    "      zip_filter, total_temp / (update_nbr+1))\n",
    ")\n"
   ]
  },
  {
   "cell_type": "markdown",
   "metadata": {},
   "source": [
    "# Multi socket poller :\n",
    "This example show how we can read from multiple socket"
   ]
  },
  {
   "cell_type": "code",
   "execution_count": null,
   "metadata": {},
   "outputs": [],
   "source": [
    "# multisocket.py\n",
    "import zmq\n",
    "\n",
    "# Prepare our context and sockets\n",
    "context = zmq.Context()\n",
    "\n",
    "# Connect to task ventilator\n",
    "receiver = context.socket(zmq.PULL)\n",
    "receiver.connect(\"tcp://127.0.0.1:5555\")\n",
    "\n",
    "# Connect to weather server\n",
    "subscriber = context.socket(zmq.SUB)\n",
    "subscriber.connect(\"tcp://localhost:5556\")\n",
    "subscriber.setsockopt(zmq.SUBSCRIBE, b\"10001\")\n",
    "\n",
    "# Initialize poll set\n",
    "poller = zmq.Poller()\n",
    "poller.register(receiver, zmq.POLLIN)\n",
    "poller.register(subscriber, zmq.POLLIN)\n",
    "\n",
    "# Process messages from both sockets\n",
    "while True:\n",
    "    try:\n",
    "        socks = dict(poller.poll())\n",
    "    except KeyboardInterrupt:\n",
    "        break\n",
    "\n",
    "    if receiver in socks:\n",
    "        message = receiver.recv()\n",
    "        # process task\n",
    "        print(\"Puller got message %s\" % message) \n",
    "\n",
    "    if subscriber in socks:\n",
    "        message = subscriber.recv()\n",
    "        zipcode, temperature, relhumidity = message.split()\n",
    "        print(\"subscriber received data %s %s %s\" % (zipcode, temperature, relhumidity))\n"
   ]
  },
  {
   "cell_type": "code",
   "execution_count": null,
   "metadata": {},
   "outputs": [],
   "source": [
    "# push.py\n",
    "import zmq\n",
    "import time\n",
    "context = zmq.Context()\n",
    "\n",
    "socket = context.socket(zmq.PUSH)\n",
    "socket.bind(\"tcp://127.0.0.1:5555\")\n",
    "\n",
    "for request in range(10):\n",
    "    print(\"Sending request %s ...\" % request)\n",
    "    socket.send(b\"Hello from pusher\")\n",
    "    time.sleep(1)\n"
   ]
  },
  {
   "cell_type": "code",
   "execution_count": null,
   "metadata": {},
   "outputs": [],
   "source": [
    "# publisher.py\n",
    "import zmq\n",
    "from random import randrange\n",
    "\n",
    "context = zmq.Context()\n",
    "socket = context.socket(zmq.PUB)\n",
    "socket.bind(\"tcp://*:5556\")\n",
    "\n",
    "while True:\n",
    "    zipcode = randrange(1, 100000)\n",
    "    temperature = randrange(-80, 135)\n",
    "    relhumidity = randrange(10, 60)\n",
    "\n",
    "    socket.send_string(\"%i %i %i\" % (zipcode, temperature, relhumidity))\n"
   ]
  },
  {
   "cell_type": "markdown",
   "metadata": {},
   "source": [
    "your can run those file in a separate terminal:\n",
    "~~~\n",
    "python multisocket.py\n",
    "python push.py\n",
    "python publisher.py\n",
    "~~~"
   ]
  }
 ],
 "metadata": {
  "kernelspec": {
   "display_name": "Python 3",
   "language": "python",
   "name": "python3"
  },
  "language_info": {
   "codemirror_mode": {
    "name": "ipython",
    "version": 2
   },
   "file_extension": ".py",
   "mimetype": "text/x-python",
   "name": "python",
   "nbconvert_exporter": "python",
   "pygments_lexer": "ipython2",
   "version": "2.7.12"
  }
 },
 "nbformat": 4,
 "nbformat_minor": 2
}
